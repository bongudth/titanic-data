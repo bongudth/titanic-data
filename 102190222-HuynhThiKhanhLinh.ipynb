{
 "cells": [
  {
   "cell_type": "markdown",
   "metadata": {},
   "source": [
    "# Bài tập 1 🚢"
   ]
  },
  {
   "cell_type": "markdown",
   "metadata": {},
   "source": [
    "##### 👀 Read Dataset"
   ]
  },
  {
   "cell_type": "code",
   "execution_count": 209,
   "metadata": {},
   "outputs": [
    {
     "data": {
      "text/html": [
       "<div>\n",
       "<style scoped>\n",
       "    .dataframe tbody tr th:only-of-type {\n",
       "        vertical-align: middle;\n",
       "    }\n",
       "\n",
       "    .dataframe tbody tr th {\n",
       "        vertical-align: top;\n",
       "    }\n",
       "\n",
       "    .dataframe thead th {\n",
       "        text-align: right;\n",
       "    }\n",
       "</style>\n",
       "<table border=\"1\" class=\"dataframe\">\n",
       "  <thead>\n",
       "    <tr style=\"text-align: right;\">\n",
       "      <th></th>\n",
       "      <th>survived</th>\n",
       "      <th>age</th>\n",
       "      <th>fare</th>\n",
       "    </tr>\n",
       "  </thead>\n",
       "  <tbody>\n",
       "    <tr>\n",
       "      <th>0</th>\n",
       "      <td>0</td>\n",
       "      <td>22.0</td>\n",
       "      <td>7.2500</td>\n",
       "    </tr>\n",
       "    <tr>\n",
       "      <th>1</th>\n",
       "      <td>1</td>\n",
       "      <td>38.0</td>\n",
       "      <td>71.2833</td>\n",
       "    </tr>\n",
       "    <tr>\n",
       "      <th>2</th>\n",
       "      <td>1</td>\n",
       "      <td>26.0</td>\n",
       "      <td>7.9250</td>\n",
       "    </tr>\n",
       "    <tr>\n",
       "      <th>3</th>\n",
       "      <td>1</td>\n",
       "      <td>35.0</td>\n",
       "      <td>53.1000</td>\n",
       "    </tr>\n",
       "    <tr>\n",
       "      <th>4</th>\n",
       "      <td>0</td>\n",
       "      <td>35.0</td>\n",
       "      <td>8.0500</td>\n",
       "    </tr>\n",
       "  </tbody>\n",
       "</table>\n",
       "</div>"
      ],
      "text/plain": [
       "   survived   age     fare\n",
       "0         0  22.0   7.2500\n",
       "1         1  38.0  71.2833\n",
       "2         1  26.0   7.9250\n",
       "3         1  35.0  53.1000\n",
       "4         0  35.0   8.0500"
      ]
     },
     "execution_count": 209,
     "metadata": {},
     "output_type": "execute_result"
    }
   ],
   "source": [
    "import pandas as pd\n",
    "\n",
    "data = pd.read_csv('./titanic.csv', usecols=['survived', 'age', 'fare'])\n",
    "\n",
    "data.head()"
   ]
  },
  {
   "cell_type": "markdown",
   "metadata": {},
   "source": [
    "## 14 tổ hợp làm sạch dữ liệu"
   ]
  },
  {
   "cell_type": "markdown",
   "metadata": {},
   "source": [
    "##### 🚫 Missing data"
   ]
  },
  {
   "cell_type": "code",
   "execution_count": 210,
   "metadata": {},
   "outputs": [
    {
     "data": {
      "text/plain": [
       "survived      0\n",
       "age         177\n",
       "fare          0\n",
       "dtype: int64"
      ]
     },
     "execution_count": 210,
     "metadata": {},
     "output_type": "execute_result"
    }
   ],
   "source": [
    "data.isnull().sum()"
   ]
  },
  {
   "cell_type": "code",
   "execution_count": 211,
   "metadata": {},
   "outputs": [
    {
     "data": {
      "text/plain": [
       "177"
      ]
     },
     "execution_count": 211,
     "metadata": {},
     "output_type": "execute_result"
    }
   ],
   "source": [
    "num_NaN = data['age'].isnull().sum()\n",
    "num_NaN"
   ]
  },
  {
   "cell_type": "code",
   "execution_count": 212,
   "metadata": {},
   "outputs": [
    {
     "data": {
      "text/plain": [
       "<AxesSubplot:>"
      ]
     },
     "execution_count": 212,
     "metadata": {},
     "output_type": "execute_result"
    },
    {
     "data": {
      "image/png": "[encoded data removed]",
      "text/plain": [
       "<Figure size 1800x720 with 2 Axes>"
      ]
     },
     "metadata": {
      "needs_background": "light"
     },
     "output_type": "display_data"
    }
   ],
   "source": [
    "import missingno as msno\n",
    "\n",
    "msno.matrix(data)"
   ]
  },
  {
   "cell_type": "markdown",
   "metadata": {},
   "source": [
    "### 7 kỹ thuật xử lý dữ liệu trống (Mean/Median/Mode imputation coi như 3 kỹ thuật khác nhau, kỹ thuật tạo đặc trưng mới phải sử dụng đồng thời biến Age và biến bổ sung Age_NAN để dự báo)\n",
    "  * #### Trường hợp Không xử lý ngoại lệ"
   ]
  },
  {
   "cell_type": "markdown",
   "metadata": {},
   "source": [
    "##### 🧹 Mean imputation"
   ]
  },
  {
   "cell_type": "code",
   "execution_count": 213,
   "metadata": {},
   "outputs": [],
   "source": [
    "data_mean = data.copy()\n",
    "value_mean = data_mean['age'].dropna().mean()\n",
    "data_mean['age'].fillna(value_mean, inplace=True)"
   ]
  },
  {
   "cell_type": "markdown",
   "metadata": {},
   "source": [
    "##### 🧹 Median imputation"
   ]
  },
  {
   "cell_type": "code",
   "execution_count": 214,
   "metadata": {},
   "outputs": [],
   "source": [
    "data_median = data.copy()\n",
    "value_median = data_median['age'].dropna().median()\n",
    "data_median['age'].fillna(value_median, inplace=True)"
   ]
  },
  {
   "cell_type": "markdown",
   "metadata": {},
   "source": [
    "##### 🧹 Mode imputation"
   ]
  },
  {
   "cell_type": "code",
   "execution_count": 215,
   "metadata": {},
   "outputs": [],
   "source": [
    "data_mode = data.copy()\n",
    "value_mode = data_mode['age'].dropna().mode()[0]\n",
    "data_mode['age'].fillna(value_mode, inplace=True)"
   ]
  },
  {
   "cell_type": "markdown",
   "metadata": {},
   "source": [
    "##### 🧹 Random sample imputation"
   ]
  },
  {
   "cell_type": "code",
   "execution_count": 216,
   "metadata": {},
   "outputs": [],
   "source": [
    "data_random = data.copy()\n",
    "values_random = data_random['age'].dropna().sample(n=num_NaN, random_state=0)\n",
    "values_random.index = data_random[data_random['age'].isnull()].index\n",
    "data_random['age'].update(values_random)"
   ]
  },
  {
   "cell_type": "markdown",
   "metadata": {},
   "source": [
    "##### 🧹 End of distribution imputation"
   ]
  },
  {
   "cell_type": "code",
   "execution_count": 217,
   "metadata": {},
   "outputs": [],
   "source": [
    "data_extreme = data.copy()\n",
    "value_extreme = data_extreme['age'].mean() + 3*data_extreme['age'].std()\n",
    "data_extreme['age'].fillna(value_extreme, inplace=True)"
   ]
  },
  {
   "cell_type": "markdown",
   "metadata": {},
   "source": [
    "##### 🧹 Arbitrary value imputation\n",
    "\\* *Millennials between 23-38 seem to be the age group that travels the most. - Travel Statistics by Age Group 2020-2021 - Condor Ferries*"
   ]
  },
  {
   "cell_type": "code",
   "execution_count": 218,
   "metadata": {},
   "outputs": [],
   "source": [
    "import numpy as np\n",
    "\n",
    "data_arbitrary = data.copy()\n",
    "value_arbitrary = np.random.randint(23, 38)\n",
    "data_arbitrary['age'].fillna(value_arbitrary, inplace=True)"
   ]
  },
  {
   "cell_type": "markdown",
   "metadata": {},
   "source": [
    "##### 🧹 Create a new feature"
   ]
  },
  {
   "cell_type": "code",
   "execution_count": 219,
   "metadata": {},
   "outputs": [],
   "source": [
    "import numpy as np\n",
    "\n",
    "def add_age_nan(data):\n",
    "  data['age_nan'] = np.where(data['age'].isnull(), 1, 0)\n",
    "\n",
    "  return data"
   ]
  },
  {
   "cell_type": "markdown",
   "metadata": {},
   "source": [
    "##### 📈 Visualization of replacing methods without outlier processing"
   ]
  },
  {
   "cell_type": "code",
   "execution_count": 220,
   "metadata": {},
   "outputs": [
    {
     "data": {
      "text/plain": [
       "<matplotlib.legend.Legend at 0x20901935fd0>"
      ]
     },
     "execution_count": 220,
     "metadata": {},
     "output_type": "execute_result"
    },
    {
     "data": {
      "image/png": "[encoded data removed]",
      "text/plain": [
       "<Figure size 720x360 with 1 Axes>"
      ]
     },
     "metadata": {
      "needs_background": "light"
     },
     "output_type": "display_data"
    }
   ],
   "source": [
    "import matplotlib.pyplot as plt\n",
    "\n",
    "plt.figure(figsize=(10, 5))\n",
    "data['age'].plot(kind='kde', label='Original')\n",
    "data_mean['age'].plot(kind='kde', label='Mean')\n",
    "data_median['age'].plot(kind='kde', label='Median')\n",
    "data_mode['age'].plot(kind='kde', label='Mode')\n",
    "data_random['age'].plot(kind='kde', label='Random')\n",
    "data_extreme['age'].plot(kind='kde', label='Extreme')\n",
    "data_arbitrary['age'].plot(kind='kde', label='Arbitrary')\n",
    "plt.legend()"
   ]
  },
  {
   "cell_type": "markdown",
   "metadata": {},
   "source": [
    "###"
   ]
  },
  {
   "cell_type": "markdown",
   "metadata": {},
   "source": [
    "  * #### Trường hợp Có xử lý ngoại lệ (đồng thời trên 2 biến Age và Fare)"
   ]
  },
  {
   "cell_type": "markdown",
   "metadata": {},
   "source": [
    "##### 🧹 Outliers process"
   ]
  },
  {
   "cell_type": "code",
   "execution_count": 221,
   "metadata": {},
   "outputs": [],
   "source": [
    "def outlier_process(data):\n",
    "  data_temp = data.copy()\n",
    "  lower_bound = data_temp['age'].mean() - 3*data_temp['age'].std()\n",
    "  upper_bound = data_temp['age'].mean() + 3*data_temp['age'].std()\n",
    "  data_temp.loc[data_temp['age'] < lower_bound, 'age'] = lower_bound\n",
    "  data_temp.loc[data_temp['age'] > upper_bound, 'age'] = upper_bound\n",
    "\n",
    "  iqr = data_temp['fare'].quantile(0.75) - data_temp['fare'].quantile(0.25)\n",
    "  lower_bridge = data_temp['fare'].quantile(0.25) - 3*iqr\n",
    "  upper_bridge = data_temp['fare'].quantile(0.75) + 3*iqr\n",
    "  data_temp.loc[data_temp['fare'] < lower_bridge, 'fare'] = lower_bridge\n",
    "  data_temp.loc[data_temp['fare'] > upper_bridge, 'fare'] = upper_bridge\n",
    "\n",
    "  return data_temp"
   ]
  },
  {
   "cell_type": "code",
   "execution_count": 222,
   "metadata": {},
   "outputs": [],
   "source": [
    "data_outlier_mean = outlier_process(data_mean)\n",
    "data_outlier_median = outlier_process(data_median)\n",
    "data_outlier_mode = outlier_process(data_mode)\n",
    "data_outlier_random = outlier_process(data_random)\n",
    "data_outlier_extreme = outlier_process(data_extreme)\n",
    "data_outlier_arbitrary = outlier_process(data_arbitrary)"
   ]
  },
  {
   "cell_type": "markdown",
   "metadata": {},
   "source": [
    "##### 📈 Visualization of replacing methods with outlier processing"
   ]
  },
  {
   "cell_type": "code",
   "execution_count": 223,
   "metadata": {},
   "outputs": [
    {
     "data": {
      "text/plain": [
       "<matplotlib.legend.Legend at 0x209019c9130>"
      ]
     },
     "execution_count": 223,
     "metadata": {},
     "output_type": "execute_result"
    },
    {
     "data": {
      "image/png": "[encoded data removed]",
      "text/plain": [
       "<Figure size 720x360 with 1 Axes>"
      ]
     },
     "metadata": {
      "needs_background": "light"
     },
     "output_type": "display_data"
    }
   ],
   "source": [
    "plt.figure(figsize=(10, 5))\n",
    "data['age'].plot(kind='kde', label='Original')\n",
    "data_outlier_mean['age'].plot(kind='kde', label='Mean')\n",
    "data_outlier_median['age'].plot(kind='kde', label='Median')\n",
    "data_outlier_mode['age'].plot(kind='kde', label='Mode')\n",
    "data_outlier_random['age'].plot(kind='kde', label='Random')\n",
    "data_outlier_extreme['age'].plot(kind='kde', label='Extreme')\n",
    "data_outlier_arbitrary['age'].plot(kind='kde', label='Arbitrary')\n",
    "plt.legend()"
   ]
  },
  {
   "cell_type": "markdown",
   "metadata": {},
   "source": [
    "##### 🧮 Standard deviation of data"
   ]
  },
  {
   "cell_type": "code",
   "execution_count": 224,
   "metadata": {},
   "outputs": [
    {
     "data": {
      "text/html": [
       "<div>\n",
       "<style scoped>\n",
       "    .dataframe tbody tr th:only-of-type {\n",
       "        vertical-align: middle;\n",
       "    }\n",
       "\n",
       "    .dataframe tbody tr th {\n",
       "        vertical-align: top;\n",
       "    }\n",
       "\n",
       "    .dataframe thead th {\n",
       "        text-align: right;\n",
       "    }\n",
       "</style>\n",
       "<table border=\"1\" class=\"dataframe\">\n",
       "  <thead>\n",
       "    <tr style=\"text-align: right;\">\n",
       "      <th></th>\n",
       "      <th>No outlier process</th>\n",
       "      <th>Outlier process</th>\n",
       "    </tr>\n",
       "  </thead>\n",
       "  <tbody>\n",
       "    <tr>\n",
       "      <th>mean</th>\n",
       "      <td>13.002015</td>\n",
       "      <td>12.908011</td>\n",
       "    </tr>\n",
       "    <tr>\n",
       "      <th>median</th>\n",
       "      <td>13.019697</td>\n",
       "      <td>12.918277</td>\n",
       "    </tr>\n",
       "    <tr>\n",
       "      <th>mode</th>\n",
       "      <td>13.199572</td>\n",
       "      <td>13.091578</td>\n",
       "    </tr>\n",
       "    <tr>\n",
       "      <th>random</th>\n",
       "      <td>14.563654</td>\n",
       "      <td>14.513571</td>\n",
       "    </tr>\n",
       "    <tr>\n",
       "      <th>extreme</th>\n",
       "      <td>21.719151</td>\n",
       "      <td>21.719151</td>\n",
       "    </tr>\n",
       "    <tr>\n",
       "      <th>arbitrary</th>\n",
       "      <td>13.012383</td>\n",
       "      <td>12.925886</td>\n",
       "    </tr>\n",
       "  </tbody>\n",
       "</table>\n",
       "</div>"
      ],
      "text/plain": [
       "           No outlier process  Outlier process\n",
       "mean                13.002015        12.908011\n",
       "median              13.019697        12.918277\n",
       "mode                13.199572        13.091578\n",
       "random              14.563654        14.513571\n",
       "extreme             21.719151        21.719151\n",
       "arbitrary           13.012383        12.925886"
      ]
     },
     "execution_count": 224,
     "metadata": {},
     "output_type": "execute_result"
    }
   ],
   "source": [
    "std_no_outlier_process = {\n",
    "  'mean': data_mean['age'].std(),\n",
    "  'median': data_median['age'].std(),\n",
    "  'mode': data_mode['age'].std(),\n",
    "  'random': data_random['age'].std(),\n",
    "  'extreme': data_extreme['age'].std(),\n",
    "  'arbitrary': data_arbitrary['age'].std()\n",
    "}\n",
    "\n",
    "std_outlier_process = {\n",
    "  'mean': data_outlier_mean['age'].std(),\n",
    "  'median': data_outlier_median['age'].std(),\n",
    "  'mode': data_outlier_mode['age'].std(),\n",
    "  'random': data_outlier_random['age'].std(),\n",
    "  'extreme': data_outlier_extreme['age'].std(),\n",
    "  'arbitrary': data_outlier_arbitrary['age'].std()\n",
    "}\n",
    "\n",
    "pd.DataFrame({'No outlier process': std_no_outlier_process, 'Outlier process': std_outlier_process}) "
   ]
  },
  {
   "cell_type": "markdown",
   "metadata": {},
   "source": [
    "### Viết chương trình đánh giá độ chính xác của thuật toán **hồi quy logistic** trong bài toán dự báo **Sự sống/chết (Survived)** của hành khách lên tàu Titanic dựa trên **Độ tuổi (Age)** và **Giá vé (Fare)** mà họ đã mua trong 14 tổ hợp làm sạch dữ liệu trên"
   ]
  },
  {
   "cell_type": "markdown",
   "metadata": {},
   "source": [
    "##### ✂️ Split dataset into 70% train, 30% test"
   ]
  },
  {
   "cell_type": "code",
   "execution_count": 225,
   "metadata": {},
   "outputs": [],
   "source": [
    "from sklearn.model_selection import train_test_split\n",
    "\n",
    "def split_data(data, test_size, random_state):\n",
    "  predictors = data.drop(['survived'], axis=1)\n",
    "  target = data['survived']\n",
    "  x_train, x_test, y_train, y_test = train_test_split(predictors, target, test_size=test_size, random_state=random_state)\n",
    "  \n",
    "  return x_train, x_test, y_train, y_test"
   ]
  },
  {
   "cell_type": "markdown",
   "metadata": {},
   "source": [
    "##### 💡 Oversampling to avoid overfitting"
   ]
  },
  {
   "cell_type": "code",
   "execution_count": 226,
   "metadata": {},
   "outputs": [],
   "source": [
    "from imblearn.over_sampling import SMOTE\n",
    "\n",
    "def oversampling(data, test_size, random_state):\n",
    "  x_train, x_test, y_train, y_test = split_data(data, test_size, random_state)\n",
    "  smote = SMOTE(random_state=random_state)\n",
    "  x_train, y_train = smote.fit_resample(x_train, y_train)\n",
    "  \n",
    "  return x_train, x_test, y_train, y_test"
   ]
  },
  {
   "cell_type": "markdown",
   "metadata": {},
   "source": [
    "##### ⚡️ Logistic Regression"
   ]
  },
  {
   "cell_type": "code",
   "execution_count": 227,
   "metadata": {},
   "outputs": [],
   "source": [
    "from sklearn.linear_model import LogisticRegression\n",
    "\n",
    "def logistic_regression(x_train, x_test, y_train, y_test):\n",
    "  classifier = LogisticRegression()\n",
    "  classifier.fit(x_train, y_train)\n",
    "  classifier.predict(x_test)\n",
    "  accuracy = classifier.score(x_test, y_test)\n",
    "\n",
    "  return accuracy"
   ]
  },
  {
   "cell_type": "markdown",
   "metadata": {},
   "source": [
    "##### 🧮 Accuracy mean over 10 tests"
   ]
  },
  {
   "cell_type": "code",
   "execution_count": 228,
   "metadata": {},
   "outputs": [],
   "source": [
    "def mean_accuracy(data):\n",
    "  accuracies = []\n",
    "\n",
    "  for i in range(10):\n",
    "    x_train, x_test, y_train, y_test = oversampling(data, 0.3, i)\n",
    "    accuracy = logistic_regression(x_train, x_test, y_train, y_test)\n",
    "    accuracies.append(accuracy)\n",
    "\n",
    "  return np.mean(accuracies)"
   ]
  },
  {
   "cell_type": "markdown",
   "metadata": {},
   "source": [
    "### Lập bảng báo cáo độ chính xác của thuật toán trong 14 trường hợp trên và cho biết độ chính xác cao nhất và thấp nhất xảy ra trong trường hợp nào. Phân tích vì sao độ chính xác cao/thấp như vậy (Train/Test phân theo tỉ lệ 70/30 như chương trình mẫu, mỗi trường hợp cần thử nghiệm 10 lần với random_state=0 đến 9 và lấy trung bình để được độ chính xác trung bình của thuật toán)"
   ]
  },
  {
   "cell_type": "markdown",
   "metadata": {},
   "source": [
    "##### 🧮 Accuracy of Logistic Regression with 14 dataset over 10 tests"
   ]
  },
  {
   "cell_type": "code",
   "execution_count": 229,
   "metadata": {},
   "outputs": [
    {
     "data": {
      "text/html": [
       "<div>\n",
       "<style scoped>\n",
       "    .dataframe tbody tr th:only-of-type {\n",
       "        vertical-align: middle;\n",
       "    }\n",
       "\n",
       "    .dataframe tbody tr th {\n",
       "        vertical-align: top;\n",
       "    }\n",
       "\n",
       "    .dataframe thead th {\n",
       "        text-align: right;\n",
       "    }\n",
       "</style>\n",
       "<table border=\"1\" class=\"dataframe\">\n",
       "  <thead>\n",
       "    <tr style=\"text-align: right;\">\n",
       "      <th></th>\n",
       "      <th>No outlier process</th>\n",
       "      <th>Outlier process</th>\n",
       "    </tr>\n",
       "  </thead>\n",
       "  <tbody>\n",
       "    <tr>\n",
       "      <th>mean</th>\n",
       "      <td>68.843284</td>\n",
       "      <td>69.253731</td>\n",
       "    </tr>\n",
       "    <tr>\n",
       "      <th>median</th>\n",
       "      <td>69.253731</td>\n",
       "      <td>68.992537</td>\n",
       "    </tr>\n",
       "    <tr>\n",
       "      <th>mode</th>\n",
       "      <td>68.656716</td>\n",
       "      <td>68.805970</td>\n",
       "    </tr>\n",
       "    <tr>\n",
       "      <th>random</th>\n",
       "      <td>68.097015</td>\n",
       "      <td>68.171642</td>\n",
       "    </tr>\n",
       "    <tr>\n",
       "      <th>extreme</th>\n",
       "      <td>68.619403</td>\n",
       "      <td>68.619403</td>\n",
       "    </tr>\n",
       "    <tr>\n",
       "      <th>arbitrary</th>\n",
       "      <td>68.917910</td>\n",
       "      <td>69.216418</td>\n",
       "    </tr>\n",
       "  </tbody>\n",
       "</table>\n",
       "</div>"
      ],
      "text/plain": [
       "           No outlier process  Outlier process\n",
       "mean                68.843284        69.253731\n",
       "median              69.253731        68.992537\n",
       "mode                68.656716        68.805970\n",
       "random              68.097015        68.171642\n",
       "extreme             68.619403        68.619403\n",
       "arbitrary           68.917910        69.216418"
      ]
     },
     "execution_count": 229,
     "metadata": {},
     "output_type": "execute_result"
    }
   ],
   "source": [
    "accuracy_no_outlier_process = {\n",
    "  'mean': mean_accuracy(data_mean)*100,\n",
    "  'median': mean_accuracy(data_median)*100,\n",
    "  'mode': mean_accuracy(data_mode)*100,\n",
    "  'random': mean_accuracy(data_random)*100,\n",
    "  'extreme': mean_accuracy(data_extreme)*100,\n",
    "  'arbitrary': mean_accuracy(data_arbitrary)*100\n",
    "}\n",
    "\n",
    "accuracy_outlier_process = {\n",
    "  'mean': mean_accuracy(data_outlier_mean)*100,\n",
    "  'median': mean_accuracy(data_outlier_median)*100,\n",
    "  'mode': mean_accuracy(data_outlier_mode)*100,\n",
    "  'random': mean_accuracy(data_outlier_random)*100,\n",
    "  'extreme': mean_accuracy(data_outlier_extreme)*100,\n",
    "  'arbitrary': mean_accuracy(data_outlier_arbitrary)*100\n",
    "}\n",
    "\n",
    "pd.DataFrame({'No outlier process': accuracy_no_outlier_process, 'Outlier process': accuracy_outlier_process})"
   ]
  },
  {
   "cell_type": "markdown",
   "metadata": {},
   "source": [
    "##### 🔖 Nhận xét\n",
    "* **Độ chính xác cao nhất (69,25%)** xảy ra trong trường hợp làm sạch dữ liệu trống sử dụng kỹ thuật **mean imputation có xử lý ngoại lệ**\n",
    "* **Độ chính xác thấp nhất (68,09%)** xảy ra trong trường hợp làm sạch dữ liệu trống sử dụng kỹ thuật **random sample không xử lý ngoại lệ**\n",
    "##### 📌 Giải thích\n",
    "* Vì đã dùng hàm `dropna()` để bỏ qua các NaN values nên có phần chính xác hơn\n",
    "* Vì số lượng hành khách không sống sót nhiều hơn sống sót, đã **oversampling** data dùng `SMOTE` để tránh tình trạng **overfitting**"
   ]
  },
  {
   "cell_type": "markdown",
   "metadata": {},
   "source": [
    "### Đề xuất các kỹ thuật chuẩn hoá dữ liệu phù hợp để cải thiện độ chính xác của thuật toán hồi quy logistic trong bài toán dự báo Sự sống/chết (Survived) của hành khách lên tàu Titanic dựa trên Độ tuổi (Age) và Giá vé (Fare) mà họ đã mua"
   ]
  },
  {
   "cell_type": "markdown",
   "metadata": {},
   "source": [
    "##### 🧬 Feature transformation by z-score"
   ]
  },
  {
   "cell_type": "code",
   "execution_count": 230,
   "metadata": {},
   "outputs": [],
   "source": [
    "from sklearn.preprocessing import StandardScaler\n",
    "\n",
    "def normalize_z_score(data):\n",
    "  data_temp = pd.DataFrame(StandardScaler().fit_transform(data[['age', 'fare']]), columns=['age', 'fare'])\n",
    "  data_temp['survived'] = data['survived']\n",
    "\n",
    "  return data_temp"
   ]
  },
  {
   "cell_type": "markdown",
   "metadata": {},
   "source": [
    "##### 🧬 Feature transformation by Min-Max"
   ]
  },
  {
   "cell_type": "code",
   "execution_count": 231,
   "metadata": {},
   "outputs": [],
   "source": [
    "from sklearn.preprocessing import MinMaxScaler\n",
    "\n",
    "def normalize_min_max(data):\n",
    "  data_temp = pd.DataFrame(MinMaxScaler().fit_transform(data[['age', 'fare']]), columns=['age', 'fare'])\n",
    "  data_temp['survived'] = data['survived']\n",
    "\n",
    "  return data_temp"
   ]
  },
  {
   "cell_type": "markdown",
   "metadata": {},
   "source": [
    "##### 🧬 Feature transformation by Robust to outliers"
   ]
  },
  {
   "cell_type": "code",
   "execution_count": 232,
   "metadata": {},
   "outputs": [],
   "source": [
    "from sklearn.preprocessing import RobustScaler\n",
    "\n",
    "def normalize_robust(data):\n",
    "  data_temp = pd.DataFrame(RobustScaler().fit_transform(data[['age', 'fare']]), columns=['age', 'fare'])\n",
    "  data_temp['survived'] = data['survived']\n",
    "\n",
    "  return data_temp"
   ]
  },
  {
   "cell_type": "markdown",
   "metadata": {},
   "source": [
    "### Cho biết độ cải thiện (%) về độ chính xác dự báo khi áp dụng kỹ thuật chuẩn hoá dữ liệu đã đề xuất kết hợp với 1 trong 14 tổ hợp kỹ thuật làm sạch dữ liệu"
   ]
  },
  {
   "cell_type": "markdown",
   "metadata": {},
   "source": [
    "##### 🧮 Accuracy of Logistic Regression with 21 dataset over 10 tests"
   ]
  },
  {
   "cell_type": "code",
   "execution_count": 233,
   "metadata": {},
   "outputs": [
    {
     "data": {
      "text/html": [
       "<div>\n",
       "<style scoped>\n",
       "    .dataframe tbody tr th:only-of-type {\n",
       "        vertical-align: middle;\n",
       "    }\n",
       "\n",
       "    .dataframe tbody tr th {\n",
       "        vertical-align: top;\n",
       "    }\n",
       "\n",
       "    .dataframe thead th {\n",
       "        text-align: right;\n",
       "    }\n",
       "</style>\n",
       "<table border=\"1\" class=\"dataframe\">\n",
       "  <thead>\n",
       "    <tr style=\"text-align: right;\">\n",
       "      <th></th>\n",
       "      <th>No outlier process</th>\n",
       "      <th>Outlier process</th>\n",
       "      <th>Normalize to Z-score</th>\n",
       "      <th>Normalize to Min-max</th>\n",
       "      <th>Normalize to Robust</th>\n",
       "    </tr>\n",
       "  </thead>\n",
       "  <tbody>\n",
       "    <tr>\n",
       "      <th>mean</th>\n",
       "      <td>68.843284</td>\n",
       "      <td>69.253731</td>\n",
       "      <td>69.291045</td>\n",
       "      <td>69.067164</td>\n",
       "      <td>69.216418</td>\n",
       "    </tr>\n",
       "    <tr>\n",
       "      <th>median</th>\n",
       "      <td>69.253731</td>\n",
       "      <td>68.992537</td>\n",
       "      <td>68.917910</td>\n",
       "      <td>69.029851</td>\n",
       "      <td>68.955224</td>\n",
       "    </tr>\n",
       "    <tr>\n",
       "      <th>mode</th>\n",
       "      <td>68.656716</td>\n",
       "      <td>68.805970</td>\n",
       "      <td>68.768657</td>\n",
       "      <td>68.656716</td>\n",
       "      <td>68.843284</td>\n",
       "    </tr>\n",
       "    <tr>\n",
       "      <th>random</th>\n",
       "      <td>68.097015</td>\n",
       "      <td>68.171642</td>\n",
       "      <td>68.134328</td>\n",
       "      <td>68.246269</td>\n",
       "      <td>68.059701</td>\n",
       "    </tr>\n",
       "    <tr>\n",
       "      <th>extreme</th>\n",
       "      <td>68.619403</td>\n",
       "      <td>68.619403</td>\n",
       "      <td>68.619403</td>\n",
       "      <td>68.507463</td>\n",
       "      <td>68.656716</td>\n",
       "    </tr>\n",
       "    <tr>\n",
       "      <th>arbitrary</th>\n",
       "      <td>68.917910</td>\n",
       "      <td>69.216418</td>\n",
       "      <td>69.179104</td>\n",
       "      <td>69.216418</td>\n",
       "      <td>69.179104</td>\n",
       "    </tr>\n",
       "  </tbody>\n",
       "</table>\n",
       "</div>"
      ],
      "text/plain": [
       "           No outlier process  Outlier process  Normalize to Z-score  \\\n",
       "mean                68.843284        69.253731             69.291045   \n",
       "median              69.253731        68.992537             68.917910   \n",
       "mode                68.656716        68.805970             68.768657   \n",
       "random              68.097015        68.171642             68.134328   \n",
       "extreme             68.619403        68.619403             68.619403   \n",
       "arbitrary           68.917910        69.216418             69.179104   \n",
       "\n",
       "           Normalize to Min-max  Normalize to Robust  \n",
       "mean                  69.067164            69.216418  \n",
       "median                69.029851            68.955224  \n",
       "mode                  68.656716            68.843284  \n",
       "random                68.246269            68.059701  \n",
       "extreme               68.507463            68.656716  \n",
       "arbitrary             69.216418            69.179104  "
      ]
     },
     "execution_count": 233,
     "metadata": {},
     "output_type": "execute_result"
    }
   ],
   "source": [
    "accuracy_z_score_outlier_process = {\n",
    "  'mean': mean_accuracy(normalize_z_score(data_outlier_mean))*100,\n",
    "  'median': mean_accuracy(normalize_z_score(data_outlier_median))*100,\n",
    "  'mode': mean_accuracy(normalize_z_score(data_outlier_mode))*100,\n",
    "  'random': mean_accuracy(normalize_z_score(data_outlier_random))*100,\n",
    "  'extreme': mean_accuracy(normalize_z_score(data_outlier_extreme))*100,\n",
    "  'arbitrary': mean_accuracy(normalize_z_score(data_outlier_arbitrary))*100\n",
    "}\n",
    "\n",
    "accuracy_min_max_outlier_process = {\n",
    "  'mean': mean_accuracy(normalize_min_max(data_outlier_mean))*100,\n",
    "  'median': mean_accuracy(normalize_min_max(data_outlier_median))*100,\n",
    "  'mode': mean_accuracy(normalize_min_max(data_outlier_mode))*100,\n",
    "  'random': mean_accuracy(normalize_min_max(data_outlier_random))*100,\n",
    "  'extreme': mean_accuracy(normalize_min_max(data_outlier_extreme))*100,\n",
    "  'arbitrary': mean_accuracy(normalize_min_max(data_outlier_arbitrary))*100\n",
    "}\n",
    "\n",
    "accuracy_robust_outlier_process = {\n",
    "  'mean': mean_accuracy(normalize_robust(data_outlier_mean))*100,\n",
    "  'median': mean_accuracy(normalize_robust(data_outlier_median))*100,\n",
    "  'mode': mean_accuracy(normalize_robust(data_outlier_mode))*100,\n",
    "  'random': mean_accuracy(normalize_robust(data_outlier_random))*100,\n",
    "  'extreme': mean_accuracy(normalize_robust(data_outlier_extreme))*100,\n",
    "  'arbitrary': mean_accuracy(normalize_robust(data_outlier_arbitrary))*100\n",
    "}\n",
    "\n",
    "pd.DataFrame({\n",
    "  'No outlier process': accuracy_no_outlier_process,\n",
    "  'Outlier process': accuracy_outlier_process,\n",
    "  'Normalize to Z-score': accuracy_z_score_outlier_process,\n",
    "  'Normalize to Min-max': accuracy_min_max_outlier_process,\n",
    "  'Normalize to Robust': accuracy_robust_outlier_process\n",
    "})"
   ]
  },
  {
   "cell_type": "markdown",
   "metadata": {},
   "source": [
    "##### 🔖 Nhận xét (độ chính xác **69.29%**)\n",
    "* **Độ cải thiện 0,04%** về độ chính xác dự báo khi áp dụng kỹ thuật **chuẩn hóa dữ liệu theo z-score** kết hợp với kỹ thuật làm sạch dữ liệu bằng cách thay thế dữ liệu trống thành **giá trị mean** và **xử lý ngoại lệ**"
   ]
  },
  {
   "cell_type": "markdown",
   "metadata": {},
   "source": [
    "### Bổ sung đặc trưng giới tính để cải thiện độ chính xác cho mô hình hồi quy logistic trên dataset Titanic"
   ]
  },
  {
   "cell_type": "markdown",
   "metadata": {},
   "source": [
    "##### 👫 Add sex feature"
   ]
  },
  {
   "cell_type": "code",
   "execution_count": 234,
   "metadata": {},
   "outputs": [
    {
     "data": {
      "text/html": [
       "<div>\n",
       "<style scoped>\n",
       "    .dataframe tbody tr th:only-of-type {\n",
       "        vertical-align: middle;\n",
       "    }\n",
       "\n",
       "    .dataframe tbody tr th {\n",
       "        vertical-align: top;\n",
       "    }\n",
       "\n",
       "    .dataframe thead th {\n",
       "        text-align: right;\n",
       "    }\n",
       "</style>\n",
       "<table border=\"1\" class=\"dataframe\">\n",
       "  <thead>\n",
       "    <tr style=\"text-align: right;\">\n",
       "      <th></th>\n",
       "      <th>survived</th>\n",
       "      <th>age</th>\n",
       "      <th>fare</th>\n",
       "      <th>sex</th>\n",
       "    </tr>\n",
       "  </thead>\n",
       "  <tbody>\n",
       "    <tr>\n",
       "      <th>0</th>\n",
       "      <td>0</td>\n",
       "      <td>22.000000</td>\n",
       "      <td>7.2500</td>\n",
       "      <td>0</td>\n",
       "    </tr>\n",
       "    <tr>\n",
       "      <th>1</th>\n",
       "      <td>1</td>\n",
       "      <td>38.000000</td>\n",
       "      <td>71.2833</td>\n",
       "      <td>1</td>\n",
       "    </tr>\n",
       "    <tr>\n",
       "      <th>2</th>\n",
       "      <td>1</td>\n",
       "      <td>26.000000</td>\n",
       "      <td>7.9250</td>\n",
       "      <td>1</td>\n",
       "    </tr>\n",
       "    <tr>\n",
       "      <th>3</th>\n",
       "      <td>1</td>\n",
       "      <td>35.000000</td>\n",
       "      <td>53.1000</td>\n",
       "      <td>1</td>\n",
       "    </tr>\n",
       "    <tr>\n",
       "      <th>4</th>\n",
       "      <td>0</td>\n",
       "      <td>35.000000</td>\n",
       "      <td>8.0500</td>\n",
       "      <td>0</td>\n",
       "    </tr>\n",
       "    <tr>\n",
       "      <th>...</th>\n",
       "      <td>...</td>\n",
       "      <td>...</td>\n",
       "      <td>...</td>\n",
       "      <td>...</td>\n",
       "    </tr>\n",
       "    <tr>\n",
       "      <th>886</th>\n",
       "      <td>0</td>\n",
       "      <td>27.000000</td>\n",
       "      <td>13.0000</td>\n",
       "      <td>0</td>\n",
       "    </tr>\n",
       "    <tr>\n",
       "      <th>887</th>\n",
       "      <td>1</td>\n",
       "      <td>19.000000</td>\n",
       "      <td>30.0000</td>\n",
       "      <td>1</td>\n",
       "    </tr>\n",
       "    <tr>\n",
       "      <th>888</th>\n",
       "      <td>0</td>\n",
       "      <td>29.699118</td>\n",
       "      <td>23.4500</td>\n",
       "      <td>1</td>\n",
       "    </tr>\n",
       "    <tr>\n",
       "      <th>889</th>\n",
       "      <td>1</td>\n",
       "      <td>26.000000</td>\n",
       "      <td>30.0000</td>\n",
       "      <td>0</td>\n",
       "    </tr>\n",
       "    <tr>\n",
       "      <th>890</th>\n",
       "      <td>0</td>\n",
       "      <td>32.000000</td>\n",
       "      <td>7.7500</td>\n",
       "      <td>0</td>\n",
       "    </tr>\n",
       "  </tbody>\n",
       "</table>\n",
       "<p>891 rows × 4 columns</p>\n",
       "</div>"
      ],
      "text/plain": [
       "     survived        age     fare  sex\n",
       "0           0  22.000000   7.2500    0\n",
       "1           1  38.000000  71.2833    1\n",
       "2           1  26.000000   7.9250    1\n",
       "3           1  35.000000  53.1000    1\n",
       "4           0  35.000000   8.0500    0\n",
       "..        ...        ...      ...  ...\n",
       "886         0  27.000000  13.0000    0\n",
       "887         1  19.000000  30.0000    1\n",
       "888         0  29.699118  23.4500    1\n",
       "889         1  26.000000  30.0000    0\n",
       "890         0  32.000000   7.7500    0\n",
       "\n",
       "[891 rows x 4 columns]"
      ]
     },
     "execution_count": 234,
     "metadata": {},
     "output_type": "execute_result"
    }
   ],
   "source": [
    "def add_sex_feature(data):\n",
    "  data_temp = data.copy()\n",
    "  data_temp['sex'] = pd.read_csv('./titanic.csv')['sex']\n",
    "  data_temp['sex'] = np.where(data_temp['sex'] == 'male', 0, 1)\n",
    "\n",
    "  return data_temp\n",
    "\n",
    "data_mean_add_sex = add_sex_feature(data_mean)\n",
    "\n",
    "data_mean_add_sex"
   ]
  },
  {
   "cell_type": "markdown",
   "metadata": {},
   "source": [
    "##### 🔨 Outlier process"
   ]
  },
  {
   "cell_type": "code",
   "execution_count": 235,
   "metadata": {},
   "outputs": [],
   "source": [
    "data_outlier_mean_add_sex = outlier_process(data_mean_add_sex)"
   ]
  },
  {
   "cell_type": "markdown",
   "metadata": {},
   "source": [
    "##### 🪄 Accuracy of Logistic Regression"
   ]
  },
  {
   "cell_type": "code",
   "execution_count": 238,
   "metadata": {},
   "outputs": [
    {
     "data": {
      "text/plain": [
       "76.044776119403"
      ]
     },
     "execution_count": 238,
     "metadata": {},
     "output_type": "execute_result"
    }
   ],
   "source": [
    "accuracy_data_outlier_mean_add_sex = mean_accuracy(data_outlier_mean_add_sex) * 100\n",
    "\n",
    "accuracy_data_outlier_mean_add_sex"
   ]
  },
  {
   "cell_type": "markdown",
   "metadata": {},
   "source": [
    "##### 🔖 Nhận xét (độ chính xác **76.04%**)\n",
    "* **Độ cải thiện 6.75%** về độ chính xác dự báo khi bổ sung đặc trưng **giới tính** và áp dụng kỹ thuật **chuẩn hóa dữ liệu theo z-score** kết hợp với kỹ thuật làm sạch dữ liệu bằng cách thay thế dữ liệu trống thành **giá trị mean** và **xử lý ngoại lệ**"
   ]
  },
  {
   "cell_type": "markdown",
   "metadata": {},
   "source": [
    "##### 📝 Validate with cross_val_score"
   ]
  },
  {
   "cell_type": "code",
   "execution_count": 239,
   "metadata": {},
   "outputs": [
    {
     "data": {
      "text/plain": [
       "0.7822735547046638"
      ]
     },
     "execution_count": 239,
     "metadata": {},
     "output_type": "execute_result"
    }
   ],
   "source": [
    "from sklearn.model_selection import cross_val_score\n",
    "\n",
    "score_validate = cross_val_score(LogisticRegression(), data_outlier_mean_add_sex[['age', 'fare', 'sex']].to_numpy(), data_outlier_mean_add_sex['survived'].to_numpy())\n",
    "\n",
    "score_validate.mean()"
   ]
  },
  {
   "cell_type": "markdown",
   "metadata": {},
   "source": [
    "##### 🔖 Nhận xét (độ chính xác **78.22%**)\n",
    "* **Độ cải thiện 2.18%** khi validate với **cross_val_score**"
   ]
  }
 ],
 "metadata": {
  "interpreter": {
   "hash": "11938c6bc6919ae2720b4d5011047913343b08a43b18698fd82dedb0d4417594"
  },
  "kernelspec": {
   "display_name": "Python 3.9.7 64-bit",
   "language": "python",
   "name": "python3"
  },
  "language_info": {
   "codemirror_mode": {
    "name": "ipython",
    "version": 3
   },
   "file_extension": ".py",
   "mimetype": "text/x-python",
   "name": "python",
   "nbconvert_exporter": "python",
   "pygments_lexer": "ipython3",
   "version": "3.9.7"
  },
  "orig_nbformat": 4
 },
 "nbformat": 4,
 "nbformat_minor": 2
}
